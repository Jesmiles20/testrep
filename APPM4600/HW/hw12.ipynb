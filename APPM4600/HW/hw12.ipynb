{
 "cells": [
  {
   "cell_type": "code",
   "execution_count": 2,
   "id": "2d19ac03-b307-4fde-9b86-2935179961e8",
   "metadata": {},
   "outputs": [
    {
     "data": {
      "text/plain": [
       "[(4, 1.5002142797595819, 5),\n",
       " (8, 1.6959389891278325, 5),\n",
       " (12, 1.7953720440364611, 6),\n",
       " (16, 1.8600364275050585, 6),\n",
       " (20, 1.9071346796925486, 6)]"
      ]
     },
     "execution_count": 2,
     "metadata": {},
     "output_type": "execute_result"
    }
   ],
   "source": [
    "import numpy as np\n",
    "\n",
    "# Define the Hilbert matrix\n",
    "def hilbert_matrix(n):\n",
    "    return np.array([[1 / (i + j - 1) for j in range(1, n + 1)] for i in range(1, n + 1)])\n",
    "\n",
    "# Power method implementation\n",
    "def power_method(A, tol=1e-6, max_iter=1000):\n",
    "    n = A.shape[0]\n",
    "    v = np.random.rand(n)  # Random initial vector\n",
    "    v = v / np.linalg.norm(v)  # Normalize\n",
    "    lambda_old = 0\n",
    "    for iteration in range(max_iter):\n",
    "        w = A @ v  # Matrix-vector product\n",
    "        v = w / np.linalg.norm(w)  # Normalize\n",
    "        lambda_new = v.T @ A @ v  # Rayleigh quotient\n",
    "        if abs(lambda_new - lambda_old) < tol:  # Check convergence\n",
    "            return lambda_new, v, iteration + 1\n",
    "        lambda_old = lambda_new\n",
    "    return lambda_new, v, max_iter  # If max iterations reached\n",
    "\n",
    "# Test for n = 4, 8, 12, 16, 20\n",
    "results = []\n",
    "for n in range(4, 21, 4):\n",
    "    H = hilbert_matrix(n)\n",
    "    dominant_eigenvalue, dominant_eigenvector, iterations = power_method(H)\n",
    "    results.append((n, dominant_eigenvalue, iterations))\n",
    "\n",
    "results\n"
   ]
  },
  {
   "cell_type": "code",
   "execution_count": 3,
   "id": "1edaacc4-ce9e-45ed-8bfb-2737e414727c",
   "metadata": {},
   "outputs": [
    {
     "data": {
      "text/plain": [
       "(8.837634435796336e-18, 1)"
      ]
     },
     "execution_count": 3,
     "metadata": {},
     "output_type": "execute_result"
    }
   ],
   "source": [
    "# Inverse power method to find the smallest eigenvalue\n",
    "def inverse_power_method(A, tol=1e-6, max_iter=1000):\n",
    "    n = A.shape[0]\n",
    "    v = np.random.rand(n)  # Random initial vector\n",
    "    v = v / np.linalg.norm(v)  # Normalize\n",
    "    lambda_old = 0\n",
    "    for iteration in range(max_iter):\n",
    "        # Solve (A - μI)v = w (with μ = 0, it's just Av = w)\n",
    "        w = np.linalg.solve(A, v)  # Equivalent to multiplying by A^-1\n",
    "        v = w / np.linalg.norm(w)  # Normalize\n",
    "        lambda_new = v.T @ A @ v  # Rayleigh quotient\n",
    "        if abs(lambda_new - lambda_old) < tol:  # Check convergence\n",
    "            return lambda_new, v, iteration + 1\n",
    "        lambda_old = lambda_new\n",
    "    return lambda_new, v, max_iter  # If max iterations reached\n",
    "\n",
    "# Generate Hilbert matrix for n = 16\n",
    "n = 16\n",
    "H = hilbert_matrix(n)\n",
    "\n",
    "# Find the smallest eigenvalue\n",
    "smallest_eigenvalue, smallest_eigenvector, iterations_smallest = inverse_power_method(H)\n",
    "\n",
    "smallest_eigenvalue, iterations_smallest\n"
   ]
  },
  {
   "cell_type": "code",
   "execution_count": null,
   "id": "a49aada4-f0ce-46c4-86a6-6f8c69e41a34",
   "metadata": {},
   "outputs": [],
   "source": []
  }
 ],
 "metadata": {
  "kernelspec": {
   "display_name": "Python 3 (ipykernel)",
   "language": "python",
   "name": "python3"
  },
  "language_info": {
   "codemirror_mode": {
    "name": "ipython",
    "version": 3
   },
   "file_extension": ".py",
   "mimetype": "text/x-python",
   "name": "python",
   "nbconvert_exporter": "python",
   "pygments_lexer": "ipython3",
   "version": "3.8.8"
  }
 },
 "nbformat": 4,
 "nbformat_minor": 5
}
