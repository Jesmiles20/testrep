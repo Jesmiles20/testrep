{
 "cells": [
  {
   "cell_type": "code",
   "execution_count": 3,
   "id": "46639050-8cb1-48d4-9fa0-8f4bf46a5b6d",
   "metadata": {},
   "outputs": [],
   "source": [
    "import numpy as np\n",
    "\n",
    "def newton_basin_condition(f,f_prime,f_double_prime,x):\n",
    "    return abs(f(x) * f_double_prime(x) / (f_prime(x)**2)) < 1\n",
    "\n",
    "def bisection_with_newton_basin(f,f_prime,f_double_prime, a, b, tol=1e-6):\n",
    "    if f(a) * f(b) > 0:\n",
    "        return(\"The function must have opposite signs at a and b.\")\n",
    "    \n",
    "    iteration = 0\n",
    "    while abs(b - a) > tol:\n",
    "        c = (a + b) / 2\n",
    "        if f(c) == 0 or newton_basin_condition(f,f_prime,f_double_prime,c):  # Check if midpoint lies in the basin of convergence\n",
    "            return c, iteration\n",
    "        elif f(a) * f(c) < 0:\n",
    "            b = c\n",
    "        else:\n",
    "            a = c\n",
    "        iteration += 1\n",
    "    \n",
    "    return (a + b) / 2, iteration\n",
    "\n"
   ]
  },
  {
   "cell_type": "code",
   "execution_count": 4,
   "id": "b346eeb2-aa7c-44c5-a80c-c1dc741d94da",
   "metadata": {},
   "outputs": [],
   "source": [
    "def newton_method(x0, tol=1e-6, max_iter=100):\n",
    "    iteration = 0\n",
    "    while iteration < max_iter:\n",
    "        if f_prime(x0) == 0:  # Prevent division by zero\n",
    "            return(\"Derivative is zero. Newton's method cannot proceed.\")\n",
    "        x1 = x0 - f(x0) / f_prime(x0)  # Newton's method iteration\n",
    "        if abs(x1 - x0) < tol:  # Convergence condition\n",
    "            return x1, iteration\n",
    "        x0 = x1\n",
    "        iteration += 1\n",
    "    return x0, iteration\n",
    "\n",
    "def bisection_with_newton(f, f_prime, f_double_prime, a, b, tol=1e-6, max_iter=100):\n",
    "        \n",
    "    midpoint, bisection_iterations = bisection_with_newton_basin(f,f_prime,f_double_prime, a, b)\n",
    "    newton_root, newton_iterations = newton_method(midpoint)\n",
    "    \n",
    "    return newton_root, bisection_iterations, newton_iterations\n",
    "\n",
    "\n"
   ]
  },
  {
   "cell_type": "code",
   "execution_count": null,
   "id": "a8df6f0d-ad9a-44e1-93ae-7e76e7c89077",
   "metadata": {},
   "outputs": [],
   "source": []
  }
 ],
 "metadata": {
  "kernelspec": {
   "display_name": "Python 3 (ipykernel)",
   "language": "python",
   "name": "python3"
  },
  "language_info": {
   "codemirror_mode": {
    "name": "ipython",
    "version": 3
   },
   "file_extension": ".py",
   "mimetype": "text/x-python",
   "name": "python",
   "nbconvert_exporter": "python",
   "pygments_lexer": "ipython3",
   "version": "3.8.8"
  }
 },
 "nbformat": 4,
 "nbformat_minor": 5
}
