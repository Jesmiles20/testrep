{
 "cells": [
  {
   "cell_type": "code",
   "execution_count": 21,
   "id": "ccffd1d2-b6e1-44e2-a70d-483daf3ba0d3",
   "metadata": {},
   "outputs": [],
   "source": [
    "import numpy as np\n",
    "def fixed_point_iteration(g, x0, tol=1e-6, max_iter=1000):\n",
    "    approximations = np.zeros(max_iter + 1)  # Initialize a NumPy array to store approximations\n",
    "    approximations[0] = x0  # Set the initial value\n",
    "    \n",
    "    x = x0\n",
    "    for iter_count in range(1, max_iter + 1):\n",
    "        x_next = g(x)\n",
    "        approximations[iter_count] = x_next  # Store the approximation\n",
    "        \n",
    "        # Check if the difference between successive iterations is within tolerance\n",
    "        if abs(x_next - x) < tol:\n",
    "            return approximations[:iter_count + 1]  # Return the array up to the last computed value\n",
    "        \n",
    "        x = x_next\n",
    "    \n",
    "    return approximations  # Return the full array if it didn't converge"
   ]
  },
  {
   "cell_type": "code",
   "execution_count": 22,
   "id": "7cbd2b9c-e6f3-44c5-b1f9-59f51991ba9d",
   "metadata": {},
   "outputs": [],
   "source": [
    "def g1(x):\n",
    "    return (10/(x+4))**0.5\n",
    "\n",
    "g1_arr = fixed_point_iteration(g1,1.5 , tol=1e-10)"
   ]
  },
  {
   "cell_type": "code",
   "execution_count": 23,
   "id": "f917c0f8-f797-4318-989b-318aa3a079bc",
   "metadata": {},
   "outputs": [],
   "source": [
    "def order(x,xstar):\n",
    "    diff1 = np.abs(x[1::]-xstar)\n",
    "    diff2 = np.abs(x[0:-1]-xstar)\n",
    "    fit = np.polyfit(np.log(diff2.flatten()),np.log(diff1.flatten()),1)\n",
    "    alambda = np.exp(fit[1])\n",
    "    alpha = fit[0]\n",
    "    print(f'lambda is {alambda}')\n",
    "    print(f'alpha is {alpha}')\n",
    "    return fit"
   ]
  },
  {
   "cell_type": "code",
   "execution_count": 24,
   "id": "b6b067e4-2d39-48d8-90b9-e9a66e3c0ad0",
   "metadata": {},
   "outputs": [
    {
     "name": "stdout",
     "output_type": "stream",
     "text": [
      "lambda is 0.1265274282031372\n",
      "alpha is 0.9996909905165663\n"
     ]
    },
    {
     "data": {
      "text/plain": [
       "array([ 0.99969099, -2.06729617])"
      ]
     },
     "execution_count": 24,
     "metadata": {},
     "output_type": "execute_result"
    }
   ],
   "source": [
    "order(g1_arr, 1.3652300134140976)"
   ]
  },
  {
   "cell_type": "code",
   "execution_count": 33,
   "id": "a4bf128e-0bde-4e92-884c-53055a329d36",
   "metadata": {},
   "outputs": [],
   "source": [
    "def aitken_delta_squared(sequence_func, x0, tol=1e-6, max_iter=1000):\n",
    "   \n",
    "    approximations = np.zeros(max_iter + 1)  # Store original approximations\n",
    "    accelerated_approximations = np.zeros(max_iter + 1)  # Store accelerated approximations\n",
    "    \n",
    "    approximations[0] = x0\n",
    "    accelerated_approximations[0] = x0\n",
    "    \n",
    "    for iter_count in range(1, max_iter - 2):  # Aitken's method requires at least 3 consecutive points\n",
    "        \n",
    "        # Generate the next sequence points\n",
    "        p_n = approximations[iter_count - 1]\n",
    "        p_np1 = sequence_func(p_n)  # p_(n+1)\n",
    "        p_np2 = sequence_func(p_np1)  # p_(n+2)\n",
    "        \n",
    "        approximations[iter_count] = p_np1\n",
    "        \n",
    "        # Aitken's ∆² acceleration formula\n",
    "        denominator = p_np2 - 2 * p_np1 + p_n\n",
    "        if abs(denominator) < 1e-12:  # Avoid division by a very small number\n",
    "            return accelerated_approximations[:iter_count]  # Return the current sequence\n",
    "        \n",
    "        accelerated_approx = p_n - (p_np1 - p_n) ** 2 / denominator\n",
    "        accelerated_approximations[iter_count] = accelerated_approx\n",
    "        \n",
    "        # Check for convergence\n",
    "        if abs(accelerated_approx - p_n) < tol:\n",
    "            return accelerated_approximations[:iter_count + 1]\n",
    "        \n",
    "        # Update the next guess\n",
    "        approximations[iter_count + 1] = p_np2\n",
    "    \n",
    "    return accelerated_approximations\n",
    "\n"
   ]
  },
  {
   "cell_type": "code",
   "execution_count": 34,
   "id": "00c7080c-770a-432b-ae44-4fdd89084150",
   "metadata": {},
   "outputs": [
    {
     "name": "stdout",
     "output_type": "stream",
     "text": [
      "[1.5        1.36526522 1.36523058 1.36523002 1.36523001 1.36523001\n",
      " 1.36523001 1.36523001 1.36523001 1.36523001 1.36523001 1.36523001\n",
      " 1.36523001]\n"
     ]
    }
   ],
   "source": [
    "# Applying the Aitken's ∆² method\n",
    "accelerated_approximations = aitken_delta_squared(g1, 1.5, tol=1e-10, max_iter=100)\n",
    "\n",
    "# Output the accelerated approximations\n",
    "print(accelerated_approximations)"
   ]
  },
  {
   "cell_type": "code",
   "execution_count": 47,
   "id": "24902e27-69bd-4739-b0c2-801f3e5a1442",
   "metadata": {},
   "outputs": [],
   "source": [
    "import numpy as np\n",
    "\n",
    "def steffenson_method(g, p0, tol=1e-6, max_iter=1000):\n",
    "\n",
    "    approximations = np.zeros(max_iter + 1)  # To store all approximations\n",
    "    approximations[0] = p0  # Start with the initial guess\n",
    "    \n",
    "    pn = p0  # Start with the initial guess\n",
    "    \n",
    "    for iter_count in range(1, max_iter + 1):\n",
    "        a = pn  # Current approximation\n",
    "        b = g(a)  # Apply g once\n",
    "        c = g(b)  # Apply g again\n",
    "        \n",
    "        # Calculate the next approximation using Aitken's ∆² formula\n",
    "        denominator = c - 2 * b + a\n",
    "        \n",
    "        # Avoid division by a very small number (or zero)\n",
    "        if abs(denominator) < 1e-12:\n",
    "            print(f\"Warning: Small denominator at iteration {iter_count}\")\n",
    "            return approximations[:iter_count]  # Return the current sequence\n",
    "        \n",
    "        pn_next = a - (b - a)**2 / denominator  # Update the next approximation\n",
    "        \n",
    "        approximations[iter_count] = pn_next  # Store the new approximation\n",
    "        \n",
    "        # Check for convergence\n",
    "        if abs(pn_next - pn) < tol:\n",
    "            return approximations[:iter_count + 1]  # Return the sequence up to convergence\n",
    "        \n",
    "        # Update pn to pn_next for the next iteration\n",
    "        pn = pn_next\n",
    "    \n",
    "    return approximations  \n",
    "\n",
    "\n"
   ]
  },
  {
   "cell_type": "code",
   "execution_count": 50,
   "id": "93e378db-3f33-42a5-b7ab-63f0b80fc172",
   "metadata": {},
   "outputs": [
    {
     "data": {
      "text/plain": [
       "array([1.5       , 1.36526522, 1.36523001, 1.36523001])"
      ]
     },
     "execution_count": 50,
     "metadata": {},
     "output_type": "execute_result"
    }
   ],
   "source": [
    "\n",
    "\n",
    "# Initial guess\n",
    "p0 = 1.5\n",
    "\n",
    "# Run Steffenson's method\n",
    "new = steffenson_method(g1, p0, tol=1e-10, max_iter=100)\n",
    "new\n"
   ]
  },
  {
   "cell_type": "code",
   "execution_count": 51,
   "id": "d3cc002d-a8e8-4291-84d3-a792fcd90f99",
   "metadata": {},
   "outputs": [
    {
     "name": "stdout",
     "output_type": "stream",
     "text": [
      "lambda is 6.675197214498497e-06\n",
      "alpha is 0.9278955281457948\n"
     ]
    },
    {
     "data": {
      "text/plain": [
       "array([  0.92789553, -11.91711181])"
      ]
     },
     "execution_count": 51,
     "metadata": {},
     "output_type": "execute_result"
    }
   ],
   "source": [
    "order(new,1.3652300134140976)"
   ]
  },
  {
   "cell_type": "code",
   "execution_count": null,
   "id": "65e365cd-1c50-44d7-8c37-23a0b2b18242",
   "metadata": {},
   "outputs": [],
   "source": []
  }
 ],
 "metadata": {
  "kernelspec": {
   "display_name": "Python 3 (ipykernel)",
   "language": "python",
   "name": "python3"
  },
  "language_info": {
   "codemirror_mode": {
    "name": "ipython",
    "version": 3
   },
   "file_extension": ".py",
   "mimetype": "text/x-python",
   "name": "python",
   "nbconvert_exporter": "python",
   "pygments_lexer": "ipython3",
   "version": "3.8.8"
  }
 },
 "nbformat": 4,
 "nbformat_minor": 5
}
