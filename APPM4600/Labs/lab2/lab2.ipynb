{
 "cells": [
  {
   "cell_type": "code",
   "execution_count": 32,
   "id": "cfb234ba-a36c-4aac-96e0-75bad9fb5f05",
   "metadata": {},
   "outputs": [],
   "source": [
    "import numpy as np\n",
    "import math\n",
    "import matplotlib.pyplot as plt"
   ]
  },
  {
   "cell_type": "code",
   "execution_count": 33,
   "id": "0c8a8875-6256-4891-bfe9-618c8bc1efc3",
   "metadata": {},
   "outputs": [],
   "source": [
    "def bisection_method(func, a, b, tol=1e-6, max_iter=100):\n",
    "    \n",
    "    if func(a) * func(b) >= 0:\n",
    "        return \"The function must have opposite signs at the interval endpoints [a, b].\"\n",
    "    \n",
    "    iter_count = 0\n",
    "    c = a\n",
    "    \n",
    "    while (b - a) / 2 > tol and iter_count < max_iter:\n",
    "        c = (a + b) / 2  # Midpoint\n",
    "        if func(c) == 0:  # Found the exact root\n",
    "            return c\n",
    "        elif func(a) * func(c) < 0:  # The root is in [a, c]\n",
    "            b = c\n",
    "        else:  # The root is in [c, b]\n",
    "            a = c\n",
    "        iter_count += 1\n",
    "    \n",
    "    return c\n",
    "\n",
    "\n",
    "\n"
   ]
  },
  {
   "cell_type": "code",
   "execution_count": 34,
   "id": "bbb0395b-54ce-4181-89e7-36d5d2375ea2",
   "metadata": {},
   "outputs": [
    {
     "data": {
      "text/plain": [
       "0.9999938964843749"
      ]
     },
     "execution_count": 34,
     "metadata": {},
     "output_type": "execute_result"
    }
   ],
   "source": [
    "def f(x):\n",
    "    return (x-1)*(x-3)*(x-5)\n",
    "\n",
    "bisection_method(f, 0, 2.4, tol=1e-5)\n"
   ]
  },
  {
   "cell_type": "code",
   "execution_count": 35,
   "id": "a3901801-0350-4ff8-a488-528ccb4bb887",
   "metadata": {},
   "outputs": [
    {
     "data": {
      "text/plain": [
       "'The function must have opposite signs at the interval endpoints [a, b].'"
      ]
     },
     "execution_count": 35,
     "metadata": {},
     "output_type": "execute_result"
    }
   ],
   "source": [
    "def f(x):\n",
    "    return (x-1)**2*(x-3)\n",
    "\n",
    "bisection_method(f, 0, 2, tol=1e-5)\n"
   ]
  },
  {
   "cell_type": "code",
   "execution_count": 36,
   "id": "608fcf62-8037-423e-97ef-8b6a64696133",
   "metadata": {},
   "outputs": [
    {
     "data": {
      "text/plain": [
       "'The function must have opposite signs at the interval endpoints [a, b].'"
      ]
     },
     "execution_count": 36,
     "metadata": {},
     "output_type": "execute_result"
    }
   ],
   "source": [
    "def f(x):\n",
    "    return math.sin(x)\n",
    "\n",
    "bisection_method(f, 0, 0.1, tol=1e-6)\n"
   ]
  },
  {
   "cell_type": "code",
   "execution_count": 37,
   "id": "f7145808-ea52-4ddc-a0d6-7d319384eec4",
   "metadata": {},
   "outputs": [
    {
     "data": {
      "text/plain": [
       "'The function must have opposite signs at the interval endpoints [a, b].'"
      ]
     },
     "execution_count": 37,
     "metadata": {},
     "output_type": "execute_result"
    }
   ],
   "source": [
    "def f(x):\n",
    "    return math.sin(x)\n",
    "\n",
    "bisection_method(f, 0.5, (3*np.pi)/4, tol=1e-5)"
   ]
  },
  {
   "cell_type": "code",
   "execution_count": 38,
   "id": "fedada37-d153-484d-91b8-b3838c055973",
   "metadata": {},
   "outputs": [],
   "source": [
    "def fixed_point_iteration(g, x0, tol=1e-6, max_iter=1000):\n",
    "    iter_count = 0\n",
    "    x = x0\n",
    "    \n",
    "    while iter_count < max_iter:\n",
    "        x_next = g(x)\n",
    "        \n",
    "        # Check if the difference between successive iterations is within tolerance\n",
    "        if abs(x_next - x) < tol:\n",
    "            return x_next\n",
    "        \n",
    "        x = x_next\n",
    "        iter_count += 1\n",
    "    \n",
    "    return f\"Fixed-point iteration did not converge after {max_iter} iterations.\"\n",
    "\n",
    "\n"
   ]
  },
  {
   "cell_type": "code",
   "execution_count": 39,
   "id": "851f0c2d-4f49-4b40-8174-7dca1801975b",
   "metadata": {},
   "outputs": [],
   "source": [
    "\n",
    "def g(x):\n",
    "    return x*(1+(7-x**5)/x**2)**3\n",
    "\n",
    "\n",
    "\n",
    "x0 = 1\n",
    "\n",
    "# Perform fixed-point iteration to find the fixed point of g(x)\n",
    "#fixed_point_iteration(g, x0, tol=1e-10)\n"
   ]
  },
  {
   "cell_type": "code",
   "execution_count": 40,
   "id": "7c672f28-b735-44c9-ada7-d9804f513370",
   "metadata": {},
   "outputs": [],
   "source": [
    "def g(x):\n",
    "    return x-(x**5-7)/x**2\n",
    "\n",
    "x0 = 1\n",
    "\n",
    "# Perform fixed-point iteration to find the fixed point of g(x)\n",
    "#fixed_point_iteration(g, x0, tol=1e-10)"
   ]
  },
  {
   "cell_type": "code",
   "execution_count": 41,
   "id": "708e1031-17a3-440c-bf8b-000f36bbfdd0",
   "metadata": {},
   "outputs": [
    {
     "data": {
      "text/plain": [
       "1.475773161594552"
      ]
     },
     "execution_count": 41,
     "metadata": {},
     "output_type": "execute_result"
    }
   ],
   "source": [
    "def g(x):\n",
    "    return x-(x**5-7)/(5*x**4)\n",
    "\n",
    "x0 = 1\n",
    "\n",
    "# Perform fixed-point iteration to find the fixed point of g(x)\n",
    "fixed_point_iteration(g, x0, tol=1e-10)"
   ]
  },
  {
   "cell_type": "code",
   "execution_count": 42,
   "id": "0be33215-038e-40ff-a17c-0fba1643eb68",
   "metadata": {},
   "outputs": [
    {
     "data": {
      "text/plain": [
       "1.4757731616428729"
      ]
     },
     "execution_count": 42,
     "metadata": {},
     "output_type": "execute_result"
    }
   ],
   "source": [
    "def g(x):\n",
    "    return x-(x**5-7)/12\n",
    "\n",
    "x0 = 1\n",
    "\n",
    "# Perform fixed-point iteration to find the fixed point of g(x)\n",
    "fixed_point_iteration(g, x0, tol=1e-10)"
   ]
  },
  {
   "cell_type": "code",
   "execution_count": null,
   "id": "555fbe9c-d2b7-46f5-b941-bca764d53818",
   "metadata": {},
   "outputs": [],
   "source": []
  },
  {
   "cell_type": "code",
   "execution_count": null,
   "id": "66cd4f79-41fc-4d15-9db5-ff114c9ce219",
   "metadata": {},
   "outputs": [],
   "source": []
  }
 ],
 "metadata": {
  "kernelspec": {
   "display_name": "Python 3 (ipykernel)",
   "language": "python",
   "name": "python3"
  },
  "language_info": {
   "codemirror_mode": {
    "name": "ipython",
    "version": 3
   },
   "file_extension": ".py",
   "mimetype": "text/x-python",
   "name": "python",
   "nbconvert_exporter": "python",
   "pygments_lexer": "ipython3",
   "version": "3.8.8"
  }
 },
 "nbformat": 4,
 "nbformat_minor": 5
}
